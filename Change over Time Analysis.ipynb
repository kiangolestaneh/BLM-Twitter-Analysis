{
 "cells": [
  {
   "cell_type": "markdown",
   "metadata": {},
   "source": [
    "# Change Over Time, Black Lives Matter"
   ]
  },
  {
   "cell_type": "code",
   "execution_count": 190,
   "metadata": {},
   "outputs": [
    {
     "name": "stderr",
     "output_type": "stream",
     "text": [
      "[nltk_data] Downloading package stopwords to\n",
      "[nltk_data]     /Users/kiangolestaneh/nltk_data...\n",
      "[nltk_data]   Package stopwords is already up-to-date!\n"
     ]
    }
   ],
   "source": [
    "import numpy as np\n",
    "\n",
    "import os\n",
    "import pandas as pd\n",
    "import matplotlib.pyplot as plt\n",
    "import seaborn as sns\n",
    "import itertools\n",
    "import collections\n",
    "\n",
    "import tweepy as tw\n",
    "import nltk\n",
    "from nltk.corpus import stopwords\n",
    "import re\n",
    "import networkx\n",
    "\n",
    "import warnings\n",
    "warnings.filterwarnings(\"ignore\")\n",
    "\n",
    "sns.set(font_scale=1.5)\n",
    "sns.set_style(\"whitegrid\")\n",
    "\n",
    "nltk.download('stopwords')\n",
    "\n",
    "from textblob import TextBlob\n",
    "\n",
    "import warnings\n",
    "warnings.filterwarnings(\"ignore\")\n",
    "\n",
    "sns.set(font_scale=1.5)\n",
    "sns.set_style(\"whitegrid\")"
   ]
  },
  {
   "cell_type": "code",
   "execution_count": 88,
   "metadata": {},
   "outputs": [],
   "source": [
    "consumer_key= 'OqN95100ediMdZaZIAzbIziXU'\n",
    "consumer_secret= 'eIV4qxuLYhY1w7G0wEWzL9pAVKvUESH1WKqdo9pQqCzNAvGdeF'\n",
    "access_token= '3314061705-8ditQ1UvHK02vlEX1E7KvZ050Il1ZeXIcRtDRbV'\n",
    "access_token_secret= 'ntrKgE1U14238E4zEnkdC1fZtzNFe92gmyVmk5HSBUvBj'"
   ]
  },
  {
   "cell_type": "code",
   "execution_count": 89,
   "metadata": {},
   "outputs": [],
   "source": [
    "auth = tw.OAuthHandler(consumer_key, consumer_secret)\n",
    "auth.set_access_token(access_token, access_token_secret)\n",
    "api = tw.API(auth, wait_on_rate_limit=True)"
   ]
  },
  {
   "cell_type": "markdown",
   "metadata": {},
   "source": [
    "### How has the frequency of key words of the BLM movement changed on Twitter since the death of George Floyd"
   ]
  },
  {
   "cell_type": "markdown",
   "metadata": {},
   "source": [
    "George Floyd passed away on May 25, 2020 from a reoccuring subject within the United States: Police brutality. The purpose of this notebook is to see the impact of his death in terms of how it sparked awareness on the platform if Twitter."
   ]
  },
  {
   "cell_type": "code",
   "execution_count": 205,
   "metadata": {},
   "outputs": [],
   "source": [
    "# Define the search term and the date_since date as variables\n",
    "search_words = \"black\"\n",
    "date_at_time_of_death = \"2020-05-25\"\n",
    "date_prior = \"2020-04-25\"\n",
    "date_after = \"2020-06-12\""
   ]
  },
  {
   "cell_type": "code",
   "execution_count": 206,
   "metadata": {},
   "outputs": [
    {
     "data": {
      "text/plain": [
       "'black -filter:retweets'"
      ]
     },
     "execution_count": 206,
     "metadata": {},
     "output_type": "execute_result"
    }
   ],
   "source": [
    "#Removes all retweets of the same tweet to avoid duplicates\n",
    "new_search = search_words + \" -filter:retweets\"\n",
    "new_search"
   ]
  },
  {
   "cell_type": "code",
   "execution_count": 92,
   "metadata": {},
   "outputs": [],
   "source": [
    "def remove_url(txt):\n",
    "    \"\"\"Replace URLs found in a text string with nothing \n",
    "    (i.e. it will remove the URL from the string).\n",
    "\n",
    "    Parameters\n",
    "    ----------\n",
    "    txt : string\n",
    "        A text string that you want to parse and remove urls.\n",
    "\n",
    "    Returns\n",
    "    -------\n",
    "    The same txt string with url's removed.\n",
    "    \"\"\"\n",
    "\n",
    "    return \" \".join(re.sub(\"([^0-9A-Za-z \\t])|(\\w+:\\/\\/\\S+)\", \"\", txt).split())"
   ]
  },
  {
   "cell_type": "code",
   "execution_count": 93,
   "metadata": {},
   "outputs": [
    {
     "data": {
      "text/plain": [
       "['yours',\n",
       " 'there',\n",
       " 'for',\n",
       " \"it's\",\n",
       " 'your',\n",
       " \"that'll\",\n",
       " 'having',\n",
       " 'couldn',\n",
       " \"haven't\",\n",
       " 'yourselves']"
      ]
     },
     "execution_count": 93,
     "metadata": {},
     "output_type": "execute_result"
    }
   ],
   "source": [
    "stop_words = set(stopwords.words('english'))\n",
    "\n",
    "# View a few words from the set\n",
    "list(stop_words)[0:10]"
   ]
  },
  {
   "cell_type": "markdown",
   "metadata": {},
   "source": [
    "# Sentiment on May 25, 2020"
   ]
  },
  {
   "cell_type": "code",
   "execution_count": 166,
   "metadata": {},
   "outputs": [
    {
     "data": {
      "text/plain": [
       "{'am i the only one wondering how come i havent seen a black player on this team thoi think there might have been a',\n",
       " 'amberraquei maam thats all you do on here i mind my business and laugh by myself lol',\n",
       " 'black men are 6 of the us population but 40 of the us prison population slavery is banished except as a punish',\n",
       " 'blackjesusftw im digging this vibe except we would be drinking a nice cold beer afterwards',\n",
       " 'darrenplymouth erblack looters matter',\n",
       " 'ersk santiagomayer zillablue i just have no idea why a young black man who represents the city in which breon',\n",
       " 'first blackface was okay then it was bad now its politically correct to be in blackface againcolor me confu',\n",
       " 'lets make a sandwich to start a happy day open the fridge and grab two pieces of croissants take chicken',\n",
       " 'lets not pretend that shade rooms main audience isnt black women lie again',\n",
       " 'mercon and the tenacious why dont they protest blackonblack crime like this',\n",
       " 'munch said funky black culture',\n",
       " 'nah yall meant what yall said well drink coffee at black owned coffee shops thank you very much',\n",
       " 'nancysbooze speakloveyeah nbcnews ill put it to you this way every dollar could go to any cause to make things',\n",
       " 'nothing as complex as my last sequence im afraid but hopefully something with a little color againoverall i',\n",
       " 'rt 4theculture black people dont ask questions we just run',\n",
       " 'rt achambers its 2020 and they still hanging black men from trees smh',\n",
       " 'rt akilahobviously all the people who opted out of taking black history or caribbean history or womens history courses in college are',\n",
       " 'rt ameiiezilber so um trump is having a rally on juneteenth which is a huge slap in the face to the black community so it would be a bumm',\n",
       " 'rt amzyobr black lives still matter cause everyones been kinda mute lately',\n",
       " 'rt ashanttiiii jamescharles friendly reminder the vogue cover challenge started as a way for black people to challenge anna wintour aft',\n",
       " 'rt ayannapressley black trans lives matterand this week we were robbed of the lives of remmie fells amp riah milton',\n",
       " 'rt bbybollywood so cops broke in to shoot and kill a black man in his own home in lancaster today his name was michael thomas 62 yrs ol',\n",
       " 'rt chaniasmartin i wanna buy black bandaids from a black owned company not a company making a fake gesture out of guilt',\n",
       " 'rt daracamarillo they protesting against that one racist karen that said why are you wearing black in california so all the protestors',\n",
       " 'rt ddale8 trump says he did more more for the black community than any other president but will exclude lincoln cause he did good a',\n",
       " 'rt dominiquemeshal one day us black women need to have an open discussion about how some of us project our insecurities that stem from co',\n",
       " 'rt ebonyqt they found a black man hanging from a treein california light this bitch up frfr',\n",
       " 'rt elleonwords dont pirate books like who do you think publishing will pull money from first in order to make up for that lost revenue',\n",
       " 'rt evelynvwoodsen can we stop expecting black women to be strong so many black women suffer with depression and other mental illnesses i',\n",
       " 'rt fight4thekids remember the white guy who raped a woman with witnesses yah me too blacklivesmatter resistance blacklivesmatter',\n",
       " 'rt flywithkamala this beautiful black girl was walking through a park with her mom when a patrol car pulled up fearful she immediately',\n",
       " 'rt greciaslopez i cant believe what im reading a black mans body was found hanging from a tree in palmdale and its a suspected su',\n",
       " 'rt haimaker the black panther was chosen as the symbol for the black panther party because it is an animal that only attacks when provok',\n",
       " 'rt harmonyjayla they found a black man lynched hanging from a tree in palmdale califuckinfornia',\n",
       " 'rt hobodia darrenrovell support black owned browndages',\n",
       " 'rt hodgetwins white lives matter black lives matter exposed',\n",
       " 'rt hustleandfro degrees titles and accomplishments dont validate black peoples humanity we were born worthy of living all black li',\n",
       " 'rt icecube companies and individuals please dont give the peoples money to the dnc the black community can not count those funds makin',\n",
       " 'rt imanibarbarin black asl is different from asl because schools for the deaf were segregated',\n",
       " 'rt indyamoore literally at any point in time black trans folks can just disappear and noone in power will bat a lash naacp do something',\n",
       " 'rt janetmock black trans girls keep getting murdered and our cis black siblings are too damn quiet we are your sisters too rest in po',\n",
       " 'rt johnkissmybot guess black lives dont matter if you are a retired black police officer murdered unbelievable st louis fox theate',\n",
       " 'rt kayogenesis make sure you see if we have any black detectives working on this case theres definitely a camera its right next to t',\n",
       " 'rt keenancobb there was a lynching on june 10 2020 in palmdale ca robert fuller a 23yearold black man was found dead hanging from',\n",
       " 'rt kevonstage black people everywhere just want to be clear this emoji is regina hall now i dont make the rules h',\n",
       " 'rt kynthekyd a black man was lynched an hour away from my home and theyre calling it a suicide robert fuller say his name',\n",
       " 'rt lexual no but seriously the whole thing is evil a trump rally on juneteenth in tulsa oklahoma the site of the black wall stree',\n",
       " 'rt malik4play do i know anyone near palmdale just checked that justiceforrobertfuller hashtag and its pretty fucked up a black man wa',\n",
       " 'rt missbriazhanee black lives matter',\n",
       " 'rt missxoxo garrett a morgan a black man invented the traffic light',\n",
       " 'rt morganicink black writers can write anything let me repeat anything the idea that black writers should only write black stories is',\n",
       " 'rt munroebergdorf this week we lost another two black trans sisters to transphobic violence with next to no media attention or public ou',\n",
       " 'rt notagaindrryn black people in line for 3 mins this dont make no fuckin sense',\n",
       " 'rt odprincesss so glossier is granting 10k30k 500k total to various black owned beauty businesses at different stages in their jou',\n",
       " 'rt organicblaq japans first black owned anime studio is called dart shtajio write it down',\n",
       " 'rt outsports starting at 6 pm et nickmccarvel takes over our instagram to host a special lgbt tennis pride series he will speak with j',\n",
       " 'rt papibrahvi and thats why they dont date black women',\n",
       " 'rt rahm3sh when black people go to drive thru zoos something funny is always bound to happen',\n",
       " 'rt realcandaceo fact black lives matter riots have destroyed more innocent black lives in the last month than white police officers hav',\n",
       " 'rt russwarrior the us didnt send the first black astronaut into space russia soviet union did with the launch of arnaldo tamayo m',\n",
       " 'rt sirjamesa12 every single letter was designed by black artists from the seattle area',\n",
       " 'rt skysports premier league players will have their names replaced by black lives matter on their shirts for the first 12 games of the',\n",
       " 'rt snoowwhiitee his mother did not name him black man',\n",
       " 'rt studiogh7bli since its pride month here is a bampw thread of black lesbians in the 1900s',\n",
       " 'rt taylorswift13 taking down statues isnt going to fix centuries of systemic oppression violence and hatred that black people have had',\n",
       " 'rt taylorswift13 then we get to this monstrosity nathan bedford forrest was a brutal slave trader and the first grand wizard of the ku k',\n",
       " 'rt taylorswift13 when you fight to honor racists you show black tennesseans and all of their allies where you stand and you continue th',\n",
       " 'rt theinrich22 have yall had enough negativity from the pathetic riots seattle anarchy amp the covid pandemicwell black or white re',\n",
       " 'rt thotimusprimee me when i see a police officer talking to a black person',\n",
       " 'rt tomcoletti cops shot medics in the head shot journalists beat peaceful protestors senseless split an old mans head open amp choked',\n",
       " 'rt tspooky black lives matterright speakerpelosikabul is a safer city than chicagoand thedemocrats pander on as if they c',\n",
       " 'rt txbruce to all my black brothers and sisters who like me wake up everyday amp work hard to put food on the table and clothes on your',\n",
       " 'rt vitorcarnegie is hillary still pretending to care about black lives',\n",
       " 'rt westaycoolin if u racist just unfollow me cuz ultimately all i care about is black people',\n",
       " 'rt wterrence this is a must watchblack lives matteronly when they need your vote she deserves a follow they say young black cons',\n",
       " 'rt yamiche president trumps planned convention speech in jacksonville florida on aug 27 falls on the citys 60th anniversary of a bru',\n",
       " 'rt yngmojo i run a black owned skateboard company if any of yall into that come ship w me and show love h',\n",
       " 'rt yourdadsidechic whats this woman actually protesting for is it the black lives or black dck',\n",
       " 'rt zararahim i cant stop laughing at this like yall they said ok fine black lives matter',\n",
       " 'senschumer where are the black lives matter money goes',\n",
       " 'someone should tell these idiots how theyre lining the pockets of the real racists democratstop black',\n",
       " 'vamosalagranja i wish today and day that the sun wake up that your double your expectations so all baby of south a',\n",
       " 'yeah cuz black women going to sleep with absolutely nothing on their headscmon now',\n",
       " 'yuhhhnelly black women literally always have to be because if we commit to being upset or expressing ourselves or'}"
      ]
     },
     "execution_count": 166,
     "metadata": {},
     "output_type": "execute_result"
    }
   ],
   "source": [
    "# Collect tweets for date_at_time_of_death\n",
    "tweets = tw.Cursor(api.search,\n",
    "                       q=search_words,\n",
    "                       lang=\"en\",\n",
    "                       since=date_at_time_of_death,).items(100)\n",
    "all_tweets_date_at_time_of_death = [tweet.text for tweet in tweets]\n",
    "all_tweets_no_urls_date_at_time_of_death = [remove_url(tweet) for tweet in all_tweets_date_at_time_of_death]\n",
    "\n",
    "# Remove capitalization impacts on unique returned values\n",
    "words_list = all_tweets_no_urls_date_at_time_of_death\n",
    "lower_case_all_tweets_no_urls_date_at_time_of_death = [word.lower() for word in words_list]\n",
    "set(lower_case_all_tweets_no_urls_date_at_time_of_death)"
   ]
  },
  {
   "cell_type": "code",
   "execution_count": 159,
   "metadata": {},
   "outputs": [
    {
     "data": {
      "text/plain": [
       "[('black', 446),\n",
       " ('rt', 428),\n",
       " ('the', 316),\n",
       " ('a', 280),\n",
       " ('to', 193),\n",
       " ('in', 175),\n",
       " ('of', 136),\n",
       " ('is', 135),\n",
       " ('and', 127),\n",
       " ('was', 94),\n",
       " ('this', 90),\n",
       " ('for', 83),\n",
       " ('from', 82),\n",
       " ('lives', 81),\n",
       " ('that', 73)]"
      ]
     },
     "execution_count": 159,
     "metadata": {},
     "output_type": "execute_result"
    }
   ],
   "source": [
    "# Create a list of lists containing lowercase words for each tweet\n",
    "words_in_tweet_date_at_time_of_death = [tweet.lower().split() for tweet in all_tweets_no_urls_date_at_time_of_death]\n",
    "words_in_tweet_date_at_time_of_death[:2]\n",
    "\n",
    "# List of all words across tweets\n",
    "all_words_no_urls_date_at_time_of_death = list(itertools.chain(*words_in_tweet_date_at_time_of_death))\n",
    "\n",
    "# Create counter\n",
    "counts_no_urls_date_at_time_of_death = collections.Counter(all_words_no_urls_date_at_time_of_death)\n",
    "\n",
    "counts_no_urls_date_at_time_of_death.most_common(15)"
   ]
  },
  {
   "cell_type": "code",
   "execution_count": 160,
   "metadata": {
    "scrolled": true
   },
   "outputs": [
    {
     "data": {
      "text/html": [
       "<div>\n",
       "<style scoped>\n",
       "    .dataframe tbody tr th:only-of-type {\n",
       "        vertical-align: middle;\n",
       "    }\n",
       "\n",
       "    .dataframe tbody tr th {\n",
       "        vertical-align: top;\n",
       "    }\n",
       "\n",
       "    .dataframe thead th {\n",
       "        text-align: right;\n",
       "    }\n",
       "</style>\n",
       "<table border=\"1\" class=\"dataframe\">\n",
       "  <thead>\n",
       "    <tr style=\"text-align: right;\">\n",
       "      <th></th>\n",
       "      <th>words</th>\n",
       "      <th>count</th>\n",
       "    </tr>\n",
       "  </thead>\n",
       "  <tbody>\n",
       "    <tr>\n",
       "      <th>0</th>\n",
       "      <td>black</td>\n",
       "      <td>446</td>\n",
       "    </tr>\n",
       "    <tr>\n",
       "      <th>1</th>\n",
       "      <td>rt</td>\n",
       "      <td>428</td>\n",
       "    </tr>\n",
       "    <tr>\n",
       "      <th>2</th>\n",
       "      <td>the</td>\n",
       "      <td>316</td>\n",
       "    </tr>\n",
       "    <tr>\n",
       "      <th>3</th>\n",
       "      <td>a</td>\n",
       "      <td>280</td>\n",
       "    </tr>\n",
       "    <tr>\n",
       "      <th>4</th>\n",
       "      <td>to</td>\n",
       "      <td>193</td>\n",
       "    </tr>\n",
       "  </tbody>\n",
       "</table>\n",
       "</div>"
      ],
      "text/plain": [
       "   words  count\n",
       "0  black    446\n",
       "1     rt    428\n",
       "2    the    316\n",
       "3      a    280\n",
       "4     to    193"
      ]
     },
     "execution_count": 160,
     "metadata": {},
     "output_type": "execute_result"
    }
   ],
   "source": [
    "clean_tweets_no_urls_date_at_time_of_death = pd.DataFrame(counts_no_urls_date_at_time_of_death.most_common(15),\n",
    "                             columns=['words', 'count'])\n",
    "\n",
    "clean_tweets_no_urls_date_at_time_of_death.head()"
   ]
  },
  {
   "cell_type": "code",
   "execution_count": 161,
   "metadata": {},
   "outputs": [],
   "source": [
    "tweets_nsw_date_at_time_of_death = [[word for word in tweet_words if not word in stop_words]\n",
    "              for tweet_words in words_in_tweet_date_at_time_of_death]"
   ]
  },
  {
   "cell_type": "code",
   "execution_count": 162,
   "metadata": {},
   "outputs": [
    {
     "data": {
      "text/plain": [
       "[('black', 446),\n",
       " ('rt', 428),\n",
       " ('lives', 81),\n",
       " ('man', 70),\n",
       " ('people', 62),\n",
       " ('matter', 59),\n",
       " ('found', 41),\n",
       " ('white', 41),\n",
       " ('hanging', 39),\n",
       " ('women', 35),\n",
       " ('amp', 35),\n",
       " ('trans', 32),\n",
       " ('tree', 27),\n",
       " ('dont', 26),\n",
       " ('palmdale', 26)]"
      ]
     },
     "execution_count": 162,
     "metadata": {},
     "output_type": "execute_result"
    }
   ],
   "source": [
    "all_words_nsw_date_at_time_of_death = list(itertools.chain(*tweets_nsw_date_at_time_of_death))\n",
    "\n",
    "counts_nsw_date_at_time_of_death = collections.Counter(all_words_nsw_date_at_time_of_death)\n",
    "\n",
    "counts_nsw_date_at_time_of_death.most_common(15)"
   ]
  },
  {
   "cell_type": "code",
   "execution_count": 163,
   "metadata": {},
   "outputs": [],
   "source": [
    "collection_words = ['black', 'rt', 'man']\n",
    "tweets_nsw_nc_date_at_time_of_death = [[w for w in word if not w in collection_words]\n",
    "                 for word in tweets_nsw_date_at_time_of_death]\n",
    "\n",
    "all_words_nsw_nc_date_at_time_of_death = list(itertools.chain(*tweets_nsw_nc_date_at_time_of_death))\n",
    "\n",
    "# Create counter of words in clean tweets\n",
    "counts_nsw_nc_date_at_time_of_death = collections.Counter(all_words_nsw_nc_date_at_time_of_death)"
   ]
  },
  {
   "cell_type": "code",
   "execution_count": 164,
   "metadata": {},
   "outputs": [
    {
     "data": {
      "text/html": [
       "<div>\n",
       "<style scoped>\n",
       "    .dataframe tbody tr th:only-of-type {\n",
       "        vertical-align: middle;\n",
       "    }\n",
       "\n",
       "    .dataframe tbody tr th {\n",
       "        vertical-align: top;\n",
       "    }\n",
       "\n",
       "    .dataframe thead th {\n",
       "        text-align: right;\n",
       "    }\n",
       "</style>\n",
       "<table border=\"1\" class=\"dataframe\">\n",
       "  <thead>\n",
       "    <tr style=\"text-align: right;\">\n",
       "      <th></th>\n",
       "      <th>words</th>\n",
       "      <th>count</th>\n",
       "    </tr>\n",
       "  </thead>\n",
       "  <tbody>\n",
       "    <tr>\n",
       "      <th>0</th>\n",
       "      <td>lives</td>\n",
       "      <td>81</td>\n",
       "    </tr>\n",
       "    <tr>\n",
       "      <th>1</th>\n",
       "      <td>people</td>\n",
       "      <td>62</td>\n",
       "    </tr>\n",
       "    <tr>\n",
       "      <th>2</th>\n",
       "      <td>matter</td>\n",
       "      <td>59</td>\n",
       "    </tr>\n",
       "    <tr>\n",
       "      <th>3</th>\n",
       "      <td>found</td>\n",
       "      <td>41</td>\n",
       "    </tr>\n",
       "    <tr>\n",
       "      <th>4</th>\n",
       "      <td>white</td>\n",
       "      <td>41</td>\n",
       "    </tr>\n",
       "  </tbody>\n",
       "</table>\n",
       "</div>"
      ],
      "text/plain": [
       "    words  count\n",
       "0   lives     81\n",
       "1  people     62\n",
       "2  matter     59\n",
       "3   found     41\n",
       "4   white     41"
      ]
     },
     "execution_count": 164,
     "metadata": {},
     "output_type": "execute_result"
    }
   ],
   "source": [
    "clean_tweets_ncw_date_at_time_of_death = pd.DataFrame(counts_nsw_nc_date_at_time_of_death.most_common(15),\n",
    "                             columns=['words', 'count'])\n",
    "clean_tweets_ncw_date_at_time_of_death.head()"
   ]
  },
  {
   "cell_type": "code",
   "execution_count": 165,
   "metadata": {},
   "outputs": [
    {
     "data": {
      "image/png": "[encoded data removed]",
      "text/plain": [
       "<Figure size 576x576 with 1 Axes>"
      ]
     },
     "metadata": {},
     "output_type": "display_data"
    }
   ],
   "source": [
    "fig, ax = plt.subplots(figsize=(8, 8))\n",
    "\n",
    "# Plot horizontal bar graph\n",
    "clean_tweets_ncw_date_at_time_of_death.sort_values(by='count').plot.barh(x='words',\n",
    "                      y='count',\n",
    "                      ax=ax,\n",
    "                      color=\"green\")\n",
    "\n",
    "ax.set_title(\"Common Words Found in Tweets (Without Stop or Collection Words)\")\n",
    "\n",
    "plt.show()"
   ]
  },
  {
   "cell_type": "code",
   "execution_count": 202,
   "metadata": {},
   "outputs": [
    {
     "data": {
      "image/png": "[encoded data removed]",
      "text/plain": [
       "<Figure size 576x432 with 1 Axes>"
      ]
     },
     "metadata": {},
     "output_type": "display_data"
    }
   ],
   "source": [
    "# Create textblob objects of the tweets\n",
    "sentiment_objects_date_at_time_of_death = [TextBlob(tweet) for tweet in all_tweets_no_urls_date_at_time_of_death]\n",
    "\n",
    "sentiment_objects_date_at_time_of_death[0].polarity, sentiment_objects_date_at_time_of_death[0]\n",
    "\n",
    "sentiment_values_date_at_time_of_death = [[tweet.sentiment.polarity, str(tweet)] for tweet in sentiment_objects_date_at_time_of_death]\n",
    "\n",
    "sentiment_values_date_at_time_of_death[0]\n",
    "\n",
    "sentiment_df_date_at_time_of_death = pd.DataFrame(sentiment_values_date_at_time_of_death, columns=[\"polarity\", \"tweet\"])\n",
    "\n",
    "sentiment_df_date_at_time_of_death.head()\n",
    "\n",
    "# Remove polarity values equal to zero\n",
    "sentiment_df_date_at_time_of_death = sentiment_df_date_at_time_of_death[sentiment_df_date_at_time_of_death.polarity != 0]\n",
    "fig, ax = plt.subplots(figsize=(8, 6))\n",
    "\n",
    "# Plot histogram with break at zero\n",
    "sentiment_df_date_at_time_of_death.hist(bins=[-1, -0.75, -0.5, -0.25, 0.0, 0.25, 0.5, 0.75, 1],\n",
    "             ax=ax,\n",
    "             color=\"black\")\n",
    "\n",
    "plt.title(\"Sentiments from Tweets on BLM Time of Death\")\n",
    "plt.show()\n"
   ]
  },
  {
   "cell_type": "markdown",
   "metadata": {},
   "source": [
    "# Sentiment on April 25, 2020"
   ]
  },
  {
   "cell_type": "code",
   "execution_count": 115,
   "metadata": {},
   "outputs": [
    {
     "data": {
      "text/plain": [
       "{'black lives matter',\n",
       " 'blacklivesmatter is not a trend and its frustrating to see that most people have posted their black squares and a',\n",
       " 'doing what i thought that should be done doesnt feel like enough now i need to do more than sharing equality and',\n",
       " 'fav albums in black reply for a color',\n",
       " 'has anyone noticed that instagram has become i have a black friend for white people businessescompanies and mu',\n",
       " 'huncho jack travis scott quavo black amp chinese audioh264aac360p',\n",
       " 'if you me and you not black you racist',\n",
       " 'lolknbrhosts joshmcd131 lockupmell wojespn nightmare lmao tell that to the black people getting killed unjustl',\n",
       " 'manuel17281370 wait till they start banning movies which include the first black woman to win an oscar in the mov',\n",
       " 'philanthropy we can help quell this by reimagining how our own capital and power can be redistributed to support',\n",
       " 'rt alamanecer if youre a company or brand who wants black creatives to take over your social media but dont want to make space for bl',\n",
       " 'rt amazouu i just saw starbucks say that their employees cant wear anything supporting the black lives matter movement and just like th',\n",
       " 'rt anisalrh so these are the names of black people killed in america by the police between 2013 to 2019 it just makes me think of how ma',\n",
       " 'rt aridrennen two black trans women were murdered this week a white cis billionaire used her massive platform to attack trans rights no',\n",
       " 'rt baddominicana if anything nobody is ever gonna save u is ingrained in us from birth as black girls dont bother crying nobody finn',\n",
       " 'rt bbybollywood so cops broke in to shoot and kill a black man in his own home in lancaster today his name was michael thomas 62 yrs ol',\n",
       " 'rt beintimidated billboard todrick hes not the representation for black people he profits off the black culture thats about it',\n",
       " 'rt blackwomenviews reportedly biden is down to his final 6 its obvious why kamalaharrisforvp makes the most sense but i would reeaa',\n",
       " 'rt bleacherreport premier league players will have black lives matter in place of names on the back of their shirts for the first 12 ga',\n",
       " 'rt bunbunbunn not to beat a dead horse but we nonblack people should seriously question our tendency to hijack hashtags meant for black',\n",
       " 'rt camilacabello we must continue to fight and use our privilege to fight until there is full and true equality liberty and justice f',\n",
       " 'rt chrxstianh fellow chicagoans heres a black owned coffee shop that you can replace starbucks with sip amp savor',\n",
       " 'rt complex i cant breathe a black man tells an oklahoma city cop i dont care the cop respondsderrick scott then died he was',\n",
       " 'rt dailycaller istandwithtuckercarlson trends on twitter after fox news host faces backlash over black lives matter comments',\n",
       " 'rt daracamarillo they protesting against that one racist karen that said why are you wearing black in california so all the protestors',\n",
       " 'rt dianakatoto i have a question what are the realities of being a black women in academia im going into my second year of uni underg',\n",
       " 'rt dylanexotilweod channel 4 news just reported about police targeting a black bank manager for 26 months because they couldnt fathom h',\n",
       " 'rt ebonyqt they found a black man hanging from a treein california light this bitch up frfr',\n",
       " 'rt errolwebber karen basss time is upno more grifting off the black community karenwere going to end her reign togetherdonate',\n",
       " 'rt ewarren the murder of black trans women is a crisissay their names dominique remmie fells and riah milton',\n",
       " 'rt exquisid my parents and siblings are black all of my friends are black my man is black my favorite color is black i love being',\n",
       " 'rt fairybunhun just a reminder black lives matter is not political its human rights',\n",
       " 'rt flintdibble archaeology thread one of the most pernicious racisms i see regularly is the myth that africa has been an unimportant pl',\n",
       " 'rt frontlight22 best use of black gaff tape that ive seen in quite a while',\n",
       " 'rt geekylonglegs caring about black people for a couple of weeks has me so so burned out youre all an embarrassment and we dont need',\n",
       " 'rt harmonyjayla they found a black man lynched hanging from a tree in palmdale califuckinfornia',\n",
       " 'rt hirosemaryhello if youre in nyc and able show up on sunday to honor and defend the lives of black trans people if youre not in n',\n",
       " 'rt hustleandfro degrees titles and accomplishments dont validate black peoples humanity we were born worthy of living all black li',\n",
       " 'rt iamgmjohnson stop killing black trans women its on us cis folks to do better and create systems for safety in communities',\n",
       " 'rt imanibarbarin black asl is different from asl because schools for the deaf were segregated',\n",
       " 'rt inkyardpress inkyard press will be accepting unagented submissions from black creators check this thread to find out more 18a',\n",
       " 'rt jennobenno the troubles in georgia were most harshly felt in heavily african american counties in and around atlanta where some defe',\n",
       " 'rt jordanchariton why would robert fuller hang himself by city hall in palmdale ca at 3am amid historic civil rights protests that are ma',\n",
       " 'rt katzonearth ive got a twist on publishingpaidmemy advance for the big truck that went by was just 15000 but im a white guy s',\n",
       " 'rt kpopherald twitter will launch 9 emojis on saturday in celebration of btstwts 7th anniversary for the remainder of june which you',\n",
       " 'rt kylegriffin1 trump i think ive done more for the black community than any other president and lets take a pass on abraham lincoln',\n",
       " 'rt leilahldn how can your mother be black and you carry such hatred for black women',\n",
       " 'rt majmo50 lets just say they r criminals not protesters they sully the cause of moving black lives forward in any fashion because th',\n",
       " 'rt mariahbarnett a black man was found hanging from a tree in california this week and theyre trying to say it was a suicide say his n',\n",
       " 'rt mazinnamdikanu yes in nigeria 15 christian villages wiped out amp counting the un eu uk amp the world press doesnt give a damn only',\n",
       " 'rt mdoukmas june 3 fedex announces its temporarily suspending shipping to these chicago area zip codes all black neighborhoods notice',\n",
       " 'rt mefeater mefeater magazine was created by black creatives who were tired of asking for a seat at the table they were tired of begging',\n",
       " 'rt miaareneexo you search up robert fuller and nothing pops up why isnt this being talked about a 22 year old black man was hung outsi',\n",
       " 'rt mileycyrus italy and the world united in solidarity with black lives matter in the us we must stay united to tackle covid19 and it',\n",
       " 'rt mileycyrus spain you united in solidarity with black lives matter in the us we must keep standing together to tackle covid19 and it',\n",
       " 'rt mishacollins i found a way to donate to 10 great charities that support justice for black people all at once help me make a chang',\n",
       " 'rt munroebergdorf this week we lost another two black trans sisters to transphobic violence with next to no media attention or public ou',\n",
       " 'rt natalyaxrivera skaijackson wanna expose a racist for me he said the n word multiple times white he uses that his parents that he cl',\n",
       " 'rt odprincesss so glossier is granting 10k30k 500k total to various black owned beauty businesses at different stages in their jou',\n",
       " 'rt ozraeliavi you know youre on the wrong side of history when these guys support youhong kong police chants black lives matter i c',\n",
       " 'rt paulcshipley yamiche 99 years ago this week as many as 300 black americans were killed by white mobs in the tulsa massacre of black',\n",
       " 'rt pearlajam if yall are looking to support more local blackowned businesses make sure yall check out one of my favorite spots its',\n",
       " 'rt pettywap charlemagne is an admitted rpist and the breakfast club regularly provides space for people to spout rhetoric thats harm',\n",
       " 'rt protectblcklife justiceforrobertfuller robert muller is a black man in palmdale that was found hanging from a tree the police are tr',\n",
       " 'rt pulseorlando on june 12 2016 49 angels sought the joy love and acceptance of pulse nightclub instead they found hatred and they',\n",
       " 'rt rockboltg a bunch of white people cancelling 40 yearold tv shows and patting themselves on the back for it pretending it helps the l',\n",
       " 'rt scarthlloyd my 4 year old grandson said he hopes boris johnson steps on a hard toy',\n",
       " 'rt sirjamesa12 every single letter was designed by black artists from the seattle area',\n",
       " 'rt sjpeace black lives matter a young man was lynched in yesterday his body was found hanging from a tree in palmdale ca he was on',\n",
       " 'rt smileitsjoy the fact that that you did not even cite the black women myself and drshardedavis who started this movement this is t',\n",
       " 'rt snoowwhiitee his mother did not name him black man',\n",
       " 'rt taygirlpls since starbucks is selling us overpriced racism here are a list of black owned coffee and tea shops in chicago',\n",
       " 'rt technothanos666 i wear black in california sun',\n",
       " 'rt thedamanifelder went to the barber today as my haircut was ending a white man amp young black boy walked in together came to find out',\n",
       " 'rt thedemolaexpoze mercy has a clean skin she glows she dresses well and she smells good no over powdered face no black knuckleto',\n",
       " 'rt thotimusprimee me when i see a police officer talking to a black person',\n",
       " 'rt tiffanyperkins3 defpen 55mmbae were not desperate for heroes in the black community anybody that survives this night mare is my god',\n",
       " 'rt trenthorn i fully support the proposition black lives matter and condemn individual generational and systemic racism wherever the',\n",
       " 'rt trumpwarroom watch joe biden senior advisor says she does not enjoy being asked about bidens support for the 1994 crime bill bi',\n",
       " 'rt txbruce to all my black brothers and sisters who like me wake up everyday amp work hard to put food on the table and clothes on your',\n",
       " 'rt visionarii normalize black women wearing bonnets to sleep on tv',\n",
       " 'rt waydamin black lives still matter cuz yall been kinda quiet lately',\n",
       " 'rt yohannabeee malcolm x was right about everything literally everything the black liberal the white liberal the black celebrity f',\n",
       " 'wants to say the n word with chest and also hates black girls go help your mum with the shoppingggg'}"
      ]
     },
     "execution_count": 115,
     "metadata": {},
     "output_type": "execute_result"
    }
   ],
   "source": [
    "# Collect tweets for date_prior\n",
    "tweets = tw.Cursor(api.search,\n",
    "                       q=search_words,\n",
    "                       lang=\"en\",\n",
    "                       since=date_prior).items(100)\n",
    "all_tweets_date_prior = [tweet.text for tweet in tweets]\n",
    "all_tweets_no_urls_date_prior = [remove_url(tweet) for tweet in all_tweets_date_prior]\n",
    "\n",
    "# Remove capitalization impacts on unique returned values\n",
    "words_list = all_tweets_no_urls_date_prior\n",
    "lower_case_all_tweets_no_urls_date_prior = [word.lower() for word in words_list]\n",
    "set(lower_case_all_tweets_no_urls_date_prior)"
   ]
  },
  {
   "cell_type": "code",
   "execution_count": 116,
   "metadata": {},
   "outputs": [
    {
     "data": {
      "text/plain": [
       "[('black', 90),\n",
       " ('rt', 89),\n",
       " ('the', 63),\n",
       " ('a', 53),\n",
       " ('in', 47),\n",
       " ('and', 46),\n",
       " ('to', 46),\n",
       " ('of', 24),\n",
       " ('for', 22),\n",
       " ('is', 20),\n",
       " ('was', 20),\n",
       " ('that', 19),\n",
       " ('man', 17),\n",
       " ('on', 16),\n",
       " ('i', 16)]"
      ]
     },
     "execution_count": 116,
     "metadata": {},
     "output_type": "execute_result"
    }
   ],
   "source": [
    "# Create a list of lists containing lowercase words for each tweet\n",
    "words_in_tweet_date_prior = [tweet.lower().split() for tweet in all_tweets_no_urls_date_prior]\n",
    "words_in_tweet_date_prior[:2]\n",
    "\n",
    "# List of all words across tweets\n",
    "all_words_no_urls_date_prior = list(itertools.chain(*words_in_tweet_date_prior))\n",
    "\n",
    "# Create counter\n",
    "counts_no_urls_date_prior = collections.Counter(all_words_no_urls_date_prior)\n",
    "\n",
    "counts_no_urls_date_prior.most_common(15)"
   ]
  },
  {
   "cell_type": "code",
   "execution_count": 117,
   "metadata": {},
   "outputs": [
    {
     "data": {
      "text/html": [
       "<div>\n",
       "<style scoped>\n",
       "    .dataframe tbody tr th:only-of-type {\n",
       "        vertical-align: middle;\n",
       "    }\n",
       "\n",
       "    .dataframe tbody tr th {\n",
       "        vertical-align: top;\n",
       "    }\n",
       "\n",
       "    .dataframe thead th {\n",
       "        text-align: right;\n",
       "    }\n",
       "</style>\n",
       "<table border=\"1\" class=\"dataframe\">\n",
       "  <thead>\n",
       "    <tr style=\"text-align: right;\">\n",
       "      <th></th>\n",
       "      <th>words</th>\n",
       "      <th>count</th>\n",
       "    </tr>\n",
       "  </thead>\n",
       "  <tbody>\n",
       "    <tr>\n",
       "      <th>0</th>\n",
       "      <td>black</td>\n",
       "      <td>90</td>\n",
       "    </tr>\n",
       "    <tr>\n",
       "      <th>1</th>\n",
       "      <td>rt</td>\n",
       "      <td>89</td>\n",
       "    </tr>\n",
       "    <tr>\n",
       "      <th>2</th>\n",
       "      <td>the</td>\n",
       "      <td>63</td>\n",
       "    </tr>\n",
       "    <tr>\n",
       "      <th>3</th>\n",
       "      <td>a</td>\n",
       "      <td>53</td>\n",
       "    </tr>\n",
       "    <tr>\n",
       "      <th>4</th>\n",
       "      <td>in</td>\n",
       "      <td>47</td>\n",
       "    </tr>\n",
       "  </tbody>\n",
       "</table>\n",
       "</div>"
      ],
      "text/plain": [
       "   words  count\n",
       "0  black     90\n",
       "1     rt     89\n",
       "2    the     63\n",
       "3      a     53\n",
       "4     in     47"
      ]
     },
     "execution_count": 117,
     "metadata": {},
     "output_type": "execute_result"
    }
   ],
   "source": [
    "clean_tweets_no_urls_date_prior = pd.DataFrame(counts_no_urls_date_prior.most_common(15),\n",
    "                             columns=['words', 'count'])\n",
    "\n",
    "clean_tweets_no_urls_date_prior.head()"
   ]
  },
  {
   "cell_type": "code",
   "execution_count": 118,
   "metadata": {},
   "outputs": [],
   "source": [
    "tweets_nsw_date_prior = [[word for word in tweet_words if not word in stop_words]\n",
    "              for tweet_words in words_in_tweet_date_prior]"
   ]
  },
  {
   "cell_type": "code",
   "execution_count": 119,
   "metadata": {},
   "outputs": [
    {
     "data": {
      "text/plain": [
       "[('black', 90),\n",
       " ('rt', 89),\n",
       " ('man', 17),\n",
       " ('lives', 14),\n",
       " ('matter', 12),\n",
       " ('people', 11),\n",
       " ('found', 10),\n",
       " ('white', 9),\n",
       " ('trans', 8),\n",
       " ('women', 8),\n",
       " ('hanging', 8),\n",
       " ('amp', 8),\n",
       " ('us', 7),\n",
       " ('california', 7),\n",
       " ('support', 6)]"
      ]
     },
     "execution_count": 119,
     "metadata": {},
     "output_type": "execute_result"
    }
   ],
   "source": [
    "all_words_nsw_date_prior = list(itertools.chain(*tweets_nsw_date_prior))\n",
    "\n",
    "counts_nsw_date_prior = collections.Counter(all_words_nsw_date_prior)\n",
    "\n",
    "counts_nsw_date_prior.most_common(15)"
   ]
  },
  {
   "cell_type": "code",
   "execution_count": 150,
   "metadata": {},
   "outputs": [],
   "source": [
    "collection_words = ['black', 'rt', 'man']\n",
    "tweets_nsw_nc_date_prior = [[w for w in word if not w in collection_words]\n",
    "                 for word in tweets_nsw_date_prior]\n",
    "\n",
    "all_words_nsw_nc_date_prior = list(itertools.chain(*tweets_nsw_nc_date_prior))\n",
    "\n",
    "# Create counter of words in clean tweets\n",
    "counts_nsw_nc_date_prior = collections.Counter(all_words_nsw_nc_date_prior)"
   ]
  },
  {
   "cell_type": "code",
   "execution_count": 151,
   "metadata": {},
   "outputs": [
    {
     "data": {
      "text/html": [
       "<div>\n",
       "<style scoped>\n",
       "    .dataframe tbody tr th:only-of-type {\n",
       "        vertical-align: middle;\n",
       "    }\n",
       "\n",
       "    .dataframe tbody tr th {\n",
       "        vertical-align: top;\n",
       "    }\n",
       "\n",
       "    .dataframe thead th {\n",
       "        text-align: right;\n",
       "    }\n",
       "</style>\n",
       "<table border=\"1\" class=\"dataframe\">\n",
       "  <thead>\n",
       "    <tr style=\"text-align: right;\">\n",
       "      <th></th>\n",
       "      <th>words</th>\n",
       "      <th>count</th>\n",
       "    </tr>\n",
       "  </thead>\n",
       "  <tbody>\n",
       "    <tr>\n",
       "      <th>0</th>\n",
       "      <td>lives</td>\n",
       "      <td>14</td>\n",
       "    </tr>\n",
       "    <tr>\n",
       "      <th>1</th>\n",
       "      <td>matter</td>\n",
       "      <td>12</td>\n",
       "    </tr>\n",
       "    <tr>\n",
       "      <th>2</th>\n",
       "      <td>people</td>\n",
       "      <td>11</td>\n",
       "    </tr>\n",
       "    <tr>\n",
       "      <th>3</th>\n",
       "      <td>found</td>\n",
       "      <td>10</td>\n",
       "    </tr>\n",
       "    <tr>\n",
       "      <th>4</th>\n",
       "      <td>white</td>\n",
       "      <td>9</td>\n",
       "    </tr>\n",
       "  </tbody>\n",
       "</table>\n",
       "</div>"
      ],
      "text/plain": [
       "    words  count\n",
       "0   lives     14\n",
       "1  matter     12\n",
       "2  people     11\n",
       "3   found     10\n",
       "4   white      9"
      ]
     },
     "execution_count": 151,
     "metadata": {},
     "output_type": "execute_result"
    }
   ],
   "source": [
    "clean_tweets_ncw_date_prior = pd.DataFrame(counts_nsw_nc_date_prior.most_common(15),\n",
    "                             columns=['words', 'count'])\n",
    "clean_tweets_ncw_date_prior.head()"
   ]
  },
  {
   "cell_type": "code",
   "execution_count": 152,
   "metadata": {},
   "outputs": [
    {
     "data": {
      "image/png": "[encoded data removed]",
      "text/plain": [
       "<Figure size 576x576 with 1 Axes>"
      ]
     },
     "metadata": {},
     "output_type": "display_data"
    }
   ],
   "source": [
    "fig, ax = plt.subplots(figsize=(8, 8))\n",
    "\n",
    "# Plot horizontal bar graph\n",
    "clean_tweets_ncw_date_prior.sort_values(by='count').plot.barh(x='words',\n",
    "                      y='count',\n",
    "                      ax=ax,\n",
    "                      color=\"green\")\n",
    "\n",
    "ax.set_title(\"Common Words Found in Tweets (Without Stop or Collection Words)\")\n",
    "\n",
    "plt.show()"
   ]
  },
  {
   "cell_type": "code",
   "execution_count": 203,
   "metadata": {},
   "outputs": [
    {
     "data": {
      "image/png": "[encoded data removed]",
      "text/plain": [
       "<Figure size 576x432 with 1 Axes>"
      ]
     },
     "metadata": {},
     "output_type": "display_data"
    }
   ],
   "source": [
    "# Create textblob objects of the tweets\n",
    "sentiment_objects_date_prior = [TextBlob(tweet) for tweet in all_tweets_no_urls_date_prior]\n",
    "\n",
    "sentiment_objects_date_prior[0].polarity, sentiment_objects_date_prior[0]\n",
    "\n",
    "sentiment_values_date_prior = [[tweet.sentiment.polarity, str(tweet)] for tweet in sentiment_objects_date_prior]\n",
    "\n",
    "sentiment_values_date_prior[0]\n",
    "\n",
    "sentiment_df_date_prior = pd.DataFrame(sentiment_values_date_prior, columns=[\"polarity\", \"tweet\"])\n",
    "\n",
    "sentiment_df_date_prior.head()\n",
    "\n",
    "# Remove polarity values equal to zero\n",
    "sentiment_df_date_prior = sentiment_df_date_prior[sentiment_df_date_prior.polarity != 0]\n",
    "fig, ax = plt.subplots(figsize=(8, 6))\n",
    "\n",
    "# Plot histogram with break at zero\n",
    "sentiment_df_date_prior.hist(bins=[-1, -0.75, -0.5, -0.25, 0.0, 0.25, 0.5, 0.75, 1],\n",
    "             ax=ax,\n",
    "             color=\"orange\")\n",
    "\n",
    "plt.title(\"Sentiments from Tweets on BLM Prior to Death\")\n",
    "plt.show()"
   ]
  },
  {
   "cell_type": "markdown",
   "metadata": {},
   "source": [
    "# Sentiment on June 12, 2020"
   ]
  },
  {
   "cell_type": "code",
   "execution_count": 207,
   "metadata": {},
   "outputs": [
    {
     "data": {
      "text/plain": [
       "{'black man found hanged near city hall in california in alleged suicide but protesters suspect lynching amp demand',\n",
       " 'canyonmoonftlwt everything is alright besides little black dress amp alive the disrespect',\n",
       " 'davidgegs simplehumankant mypen002 vansully renoomokri imamofpeace lmao ur frustrated because u cant hijac',\n",
       " 'fashion design black lives matter i cant breathe justice for george floyd anti racism tshirt',\n",
       " 'furnessgirl id forgotten that all buildings were black then now im trying to think if they show that fact in f',\n",
       " 'hlakam tiffanydcross davechappelle i didnt see defensive what i saw amp heard was anger amp righteous indignation',\n",
       " 'hosie in black hosierainkiss',\n",
       " 'i vow to stop if i see the cops with a black male pulled over i will watch i will listen i will be on alert i w',\n",
       " 'its ok to say black i remember once somebody said hes not black hes african american and i said im not american im black though',\n",
       " 'just cuz you have a black relative doesnt automatically mean that youre immune to making racially insensitive statements',\n",
       " 'only tonight go get our limited edition collection with golden black bar with the pre order lets attend golde',\n",
       " 'parscale realdonaldtrump black americans respond to joe bidens recent if you dont vote for me you aint black',\n",
       " 'rt amazouu i just saw starbucks say that their employees cant wear anything supporting the black lives matter movement and just like th',\n",
       " 'rt annants1 this just happened in atlanta at the wendys on university two white officers killed a black man fuck the police',\n",
       " 'rt arryanaluxe a black man was found hanging in palmdale ca and there is no media coverage on it this needs to spread like wildfire j',\n",
       " 'rt bigdawgchoosin anyways black owned been around browndages on ig',\n",
       " 'rt bremaininspain patels interference is abuse of power say police chiefs',\n",
       " 'rt brujacontumbao i want to challenge this idea of mainstream us american education having taught people nothingyou have learned to',\n",
       " 'rt challxxn you ever look at somebody non black and be like i just know you be saying nigga',\n",
       " 'rt chunkymark boris johnson a government a media that turns black lives matter into a debate about saving white heroes',\n",
       " 'rt d0mxnxque a little black girl at the gas station told me i like your big hair so im feeling pretty invincible rn tbh she had a pi',\n",
       " 'rt dghabour whole ton of blackowned restaurants to support in louisville',\n",
       " 'rt earlxsweat black ppl dont be afraid let them b afraid we r crumbling their shit not the other way around u are not helpless thats',\n",
       " 'rt evelynvwoodsen can we stop expecting black women to be strong so many black women suffer with depression and other mental illnesses i',\n",
       " 'rt fereroroherfrap black lives matter except for mine apparently my extended family is threatening me with violence for posting maga',\n",
       " 'rt fkamarisa a black woman in detroit died in her cell in police custody yesterday get the cops chargedarrestedsay her name prisci',\n",
       " 'rt fleccas update from chaz this garden is for black and indigenous folks and their plant allies',\n",
       " 'rt foxxyglamkitty yall arent angry enough when black trans women are murdered',\n",
       " 'rt grizzlynoab miles morales is a black puerto rican aint no damn halfblackhalfpuerto rican fuck does that even mean',\n",
       " 'rt harmonyjayla they found a black man lynched hanging from a tree in palmdale califuckinfornia',\n",
       " 'rt hbryant42 just remember the black person willing to publicly trash black people will have a job for life',\n",
       " 'rt hbs14n trigger warning police murderatlanta police just shot a black man in a wendys drivethru what is shown in the video is the',\n",
       " 'rt heyyguido a black man named robert fuller was lynched and they are trying to call if a suicide',\n",
       " 'rt icecube companies and individuals please dont give the peoples money to the dnc the black community can not count those funds makin',\n",
       " 'rt imrealexclusive i love my car so much yes my key is a black card',\n",
       " 'rt iromg well well well hardleft activist who stood beside actor john boyega at rally as seen talkradio yesterday',\n",
       " 'rt issabrae atlanta police shot and killed a black man tonight here is the direct aftermath meanwhile keisha lance bottoms is',\n",
       " 'rt jemartisby much of what we call diversity is really just desegregation people took down the signs that said for whites only but did',\n",
       " 'rt jeremiahjw tonight a friend of a friend witnessed the atlanta police deparment shoot a unarmed black man in the parking lot of a wendy',\n",
       " 'rt jolyonmaugham it takes a true demagogue to frame a protest about the structural discrimination against indeed the killing of blac',\n",
       " 'rt juicenogawwd so my brother do you see this symbolism with the white man being on top of the black being separated by a glass ceiling',\n",
       " 'rt keirstarmer today marks 33 years since bernie grant diane abbott and paul boateng were elected as mpssince then progress has bee',\n",
       " 'rt kingcuh there was a black male found hanging from a tree in palmdale this morning and aint nobody saying shit',\n",
       " 'rt kmggaryde democrats who cheered black lives matter protests now claim trump is selfish for holding rallies rnc conventionhttps',\n",
       " 'rt kynthekyd a black man was lynched an hour away from my home and theyre calling it a suicide robert fuller say his name',\n",
       " 'rt marklutchman advertisers are abandoning tucker carlson in droves after he questioned black lives mattertucker has courage to stand',\n",
       " 'rt meekmill rip black bo',\n",
       " 'rt meronbdereje while you guys are out there taking down statues heres one of james marion sims at the alabama capitol in montogomery a',\n",
       " 'rt motelsiren thinking about this 1983 interview where david bowie point blank period asks mtv why they dont play black artists',\n",
       " 'rt neecye watching all these companies slowly realize black people exist in real life is mentally draining',\n",
       " 'rt neourl south africans are sick in ways they dont even notice a missing person being found to not have been in danger to begin with',\n",
       " 'rt notagaindrryn black people in line for 3 mins this dont make no fuckin sense',\n",
       " 'rt oskaer13 trigger warning atlanta police just killed a black man in a wendys drivethru this shit will never end',\n",
       " 'rt ot7gnres rap is a genre created by black people and these non black people think they have a legitimate say as to what real rap is to',\n",
       " 'rt oxminaox youre telling me a black man hung himself in front of the biggest american flag in town in front of city hall around the c',\n",
       " 'rt peoplemvmt urgent a protest was held today for the lynching of the young black man robert fuller in palmdale ca why havent we see',\n",
       " 'rt pplscitycouncil so officer frank hernandez who was seen beating a handcuffed black man in boyle heights not long ago was paid a very g',\n",
       " 'rt pulseorlando on june 12 2016 49 angels sought the joy love and acceptance of pulse nightclub instead they found hatred and they',\n",
       " 'rt punishdem1776 but what about black lives matterwhere are you msm',\n",
       " 'rt r3dandrotten i dont like when black people try to play black people delete this',\n",
       " 'rt raelady4 the stigma on black mental health needs to go away we all have our own problems its not shameful its not bad it doesnt',\n",
       " 'rt rbreich so let me get this straight many of the same people who want to dramatically regulate a womans body in the name of saving li',\n",
       " 'rt robbystarbuck this black woman trying to get home had enough of woke white democrats how do you think they felt after this https',\n",
       " 'rt sadiqkhan language matters and politicians leading with words like thuggery shows a lack of emotional intelligencethe prime min',\n",
       " 'rt sarahlugor i posted about blm on my tiktok and theres mfs that threatened to unfollow me if you dont want to listen to me talk abo',\n",
       " 'rt sdaddy101269 bunnisays hbryant42 ashqelynnayers its been done before',\n",
       " 'rt sheeshgabby ride for breonna the same way we ride for george black women matter too',\n",
       " 'rt simonschama while were at it it is grotesque that there is still a bust of nathan bedford forrest in state capitol of tennessee and',\n",
       " 'rt sirjamesa12 every single letter was designed by black artists from the seattle area',\n",
       " 'rt sjpeace black lives matter a young man was lynched in yesterday his body was found hanging from a tree in palmdale ca he was on',\n",
       " 'rt smartassjen in the middle of a pandemic they rule that doctors can refuse treatment to gay or trans people in the wake of two more m',\n",
       " 'rt sohamgaur2 baby you look freaking hot mere hath nhi ruk rhe ish pic m edits karthe karthe look so hot black uffyour h',\n",
       " 'rt studiogh7bli since its pride month here is a bampw thread of black lesbians in the 1900s',\n",
       " 'rt superiorzulu taxi owners who are 99 black plead for assistance with funds from government and government is reluctant to assist but g',\n",
       " 'rt supitsshekinah my family is white and im not ashamed to say that i was adopted by a white family does that mean they are not my peop',\n",
       " 'rt taylorswift13 then we get to this monstrosity nathan bedford forrest was a brutal slave trader and the first grand wizard of the ku k',\n",
       " 'rt theblaze young black man found hanging from a tree in palmdale california police say it was a suicide over the coronavirus',\n",
       " 'rt tlddies aurora co pd officers nathan woodyard jason rosenblatt and randy roedema murdered elijah mcclain for being black while lis',\n",
       " 'rt tonybellew you cant rewrite history but you can learn from it so many brilliant tv shows being taken away is just too far before i',\n",
       " 'rt tourmaliiine black trans women deserve more than just not being killed we deserve to feel good to feel ease and joy to move through',\n",
       " 'rt waydamin black lives still matter cuz yall been kinda quiet lately',\n",
       " 'rt wellslucassanto i still think about how when the black panthers started feeding kids free breakfast the federal government literally',\n",
       " 'rt wterrence people are calling tuckercarlson racist but they are silent when it comes to howard stern wearing black face and using the',\n",
       " 'rt yohannabeee malcolm x was right about everything literally everything the black liberal the white liberal the black celebrity f',\n",
       " 'rt yungsadistlc if youre a black trans woman living in la amp would like some clothes dm meno u wont have to pay for anything',\n",
       " 'seattletimes joe biden supported the segregation of black americans and white americans',\n",
       " 'tanishqjewelry bst place to invest all ur black money they help people to purchase with black money and convert t',\n",
       " 'the most handsome and stylishman in black sidharthshukla sidharthshukla sidhearts',\n",
       " 'theofficertatum terrablanche blm cares about black lives as much as the cia does',\n",
       " 'trans lives matter black lives matter lgbtq lives matter every day the american government doesnt fully suppor',\n",
       " 'wingeyporp big black fish cock'}"
      ]
     },
     "execution_count": 207,
     "metadata": {},
     "output_type": "execute_result"
    }
   ],
   "source": [
    "# Collect tweets for date_after\n",
    "tweets = tw.Cursor(api.search,\n",
    "                       q=search_words,\n",
    "                       lang=\"en\",\n",
    "                       since=date_after).items(100)\n",
    "all_tweets_date_after = [tweet.text for tweet in tweets]\n",
    "all_tweets_no_urls_date_after = [remove_url(tweet) for tweet in all_tweets_date_after]\n",
    "\n",
    "# Remove capitalization impacts on unique returned values\n",
    "words_list = all_tweets_no_urls_date_after\n",
    "lower_case_all_tweets_no_urls_date_after = [word.lower() for word in words_list]\n",
    "set(lower_case_all_tweets_no_urls_date_after)"
   ]
  },
  {
   "cell_type": "code",
   "execution_count": 208,
   "metadata": {},
   "outputs": [
    {
     "data": {
      "text/plain": [
       "[('black', 88),\n",
       " ('rt', 82),\n",
       " ('a', 71),\n",
       " ('the', 62),\n",
       " ('in', 45),\n",
       " ('to', 38),\n",
       " ('of', 33),\n",
       " ('and', 30),\n",
       " ('i', 23),\n",
       " ('is', 23),\n",
       " ('man', 20),\n",
       " ('was', 17),\n",
       " ('for', 17),\n",
       " ('this', 15),\n",
       " ('people', 14)]"
      ]
     },
     "execution_count": 208,
     "metadata": {},
     "output_type": "execute_result"
    }
   ],
   "source": [
    "# Create a list of lists containing lowercase words for each tweet\n",
    "words_in_tweet_date_after = [tweet.lower().split() for tweet in all_tweets_no_urls_date_after]\n",
    "words_in_tweet_date_after[:2]\n",
    "\n",
    "# List of all words across tweets\n",
    "all_words_no_urls_date_after = list(itertools.chain(*words_in_tweet_date_after))\n",
    "\n",
    "# Create counter\n",
    "counts_no_urls_date_after = collections.Counter(all_words_no_urls_date_after)\n",
    "\n",
    "counts_no_urls_date_after.most_common(15)"
   ]
  },
  {
   "cell_type": "code",
   "execution_count": 209,
   "metadata": {},
   "outputs": [
    {
     "data": {
      "text/html": [
       "<div>\n",
       "<style scoped>\n",
       "    .dataframe tbody tr th:only-of-type {\n",
       "        vertical-align: middle;\n",
       "    }\n",
       "\n",
       "    .dataframe tbody tr th {\n",
       "        vertical-align: top;\n",
       "    }\n",
       "\n",
       "    .dataframe thead th {\n",
       "        text-align: right;\n",
       "    }\n",
       "</style>\n",
       "<table border=\"1\" class=\"dataframe\">\n",
       "  <thead>\n",
       "    <tr style=\"text-align: right;\">\n",
       "      <th></th>\n",
       "      <th>words</th>\n",
       "      <th>count</th>\n",
       "    </tr>\n",
       "  </thead>\n",
       "  <tbody>\n",
       "    <tr>\n",
       "      <th>0</th>\n",
       "      <td>black</td>\n",
       "      <td>88</td>\n",
       "    </tr>\n",
       "    <tr>\n",
       "      <th>1</th>\n",
       "      <td>rt</td>\n",
       "      <td>82</td>\n",
       "    </tr>\n",
       "    <tr>\n",
       "      <th>2</th>\n",
       "      <td>a</td>\n",
       "      <td>71</td>\n",
       "    </tr>\n",
       "    <tr>\n",
       "      <th>3</th>\n",
       "      <td>the</td>\n",
       "      <td>62</td>\n",
       "    </tr>\n",
       "    <tr>\n",
       "      <th>4</th>\n",
       "      <td>in</td>\n",
       "      <td>45</td>\n",
       "    </tr>\n",
       "  </tbody>\n",
       "</table>\n",
       "</div>"
      ],
      "text/plain": [
       "   words  count\n",
       "0  black     88\n",
       "1     rt     82\n",
       "2      a     71\n",
       "3    the     62\n",
       "4     in     45"
      ]
     },
     "execution_count": 209,
     "metadata": {},
     "output_type": "execute_result"
    }
   ],
   "source": [
    "clean_tweets_no_urls_date_after = pd.DataFrame(counts_no_urls_date_after.most_common(15),\n",
    "                             columns=['words', 'count'])\n",
    "\n",
    "clean_tweets_no_urls_date_after.head()"
   ]
  },
  {
   "cell_type": "code",
   "execution_count": 210,
   "metadata": {},
   "outputs": [],
   "source": [
    "tweets_nsw_date_after = [[word for word in tweet_words if not word in stop_words]\n",
    "              for tweet_words in words_in_tweet_date_after]"
   ]
  },
  {
   "cell_type": "code",
   "execution_count": 211,
   "metadata": {},
   "outputs": [
    {
     "data": {
      "text/plain": [
       "[('black', 88),\n",
       " ('rt', 82),\n",
       " ('man', 20),\n",
       " ('people', 14),\n",
       " ('lives', 13),\n",
       " ('matter', 12),\n",
       " ('police', 12),\n",
       " ('found', 9),\n",
       " ('dont', 8),\n",
       " ('like', 8),\n",
       " ('white', 8),\n",
       " ('friend', 8),\n",
       " ('palmdale', 7),\n",
       " ('say', 7),\n",
       " ('atlanta', 7)]"
      ]
     },
     "execution_count": 211,
     "metadata": {},
     "output_type": "execute_result"
    }
   ],
   "source": [
    "all_words_nsw_date_after = list(itertools.chain(*tweets_nsw_date_after))\n",
    "\n",
    "counts_nsw_date_after = collections.Counter(all_words_nsw_date_after)\n",
    "\n",
    "counts_nsw_date_after.most_common(15)"
   ]
  },
  {
   "cell_type": "code",
   "execution_count": 212,
   "metadata": {},
   "outputs": [],
   "source": [
    "collection_words = ['black', 'rt', 'man']\n",
    "tweets_nsw_nc_date_after = [[w for w in word if not w in collection_words]\n",
    "                 for word in tweets_nsw_date_after]\n",
    "\n",
    "all_words_nsw_nc_date_after = list(itertools.chain(*tweets_nsw_nc_date_after))\n",
    "\n",
    "# Create counter of words in clean tweets\n",
    "counts_nsw_nc_date_after = collections.Counter(all_words_nsw_nc_date_after)"
   ]
  },
  {
   "cell_type": "code",
   "execution_count": 213,
   "metadata": {},
   "outputs": [
    {
     "data": {
      "text/html": [
       "<div>\n",
       "<style scoped>\n",
       "    .dataframe tbody tr th:only-of-type {\n",
       "        vertical-align: middle;\n",
       "    }\n",
       "\n",
       "    .dataframe tbody tr th {\n",
       "        vertical-align: top;\n",
       "    }\n",
       "\n",
       "    .dataframe thead th {\n",
       "        text-align: right;\n",
       "    }\n",
       "</style>\n",
       "<table border=\"1\" class=\"dataframe\">\n",
       "  <thead>\n",
       "    <tr style=\"text-align: right;\">\n",
       "      <th></th>\n",
       "      <th>words</th>\n",
       "      <th>count</th>\n",
       "    </tr>\n",
       "  </thead>\n",
       "  <tbody>\n",
       "    <tr>\n",
       "      <th>0</th>\n",
       "      <td>people</td>\n",
       "      <td>14</td>\n",
       "    </tr>\n",
       "    <tr>\n",
       "      <th>1</th>\n",
       "      <td>lives</td>\n",
       "      <td>13</td>\n",
       "    </tr>\n",
       "    <tr>\n",
       "      <th>2</th>\n",
       "      <td>matter</td>\n",
       "      <td>12</td>\n",
       "    </tr>\n",
       "    <tr>\n",
       "      <th>3</th>\n",
       "      <td>police</td>\n",
       "      <td>12</td>\n",
       "    </tr>\n",
       "    <tr>\n",
       "      <th>4</th>\n",
       "      <td>found</td>\n",
       "      <td>9</td>\n",
       "    </tr>\n",
       "  </tbody>\n",
       "</table>\n",
       "</div>"
      ],
      "text/plain": [
       "    words  count\n",
       "0  people     14\n",
       "1   lives     13\n",
       "2  matter     12\n",
       "3  police     12\n",
       "4   found      9"
      ]
     },
     "execution_count": 213,
     "metadata": {},
     "output_type": "execute_result"
    }
   ],
   "source": [
    "clean_tweets_ncw_date_after = pd.DataFrame(counts_nsw_nc_date_after.most_common(15),\n",
    "                             columns=['words', 'count'])\n",
    "clean_tweets_ncw_date_after.head()"
   ]
  },
  {
   "cell_type": "code",
   "execution_count": 214,
   "metadata": {},
   "outputs": [
    {
     "data": {
      "image/png": "[encoded data removed]",
      "text/plain": [
       "<Figure size 576x576 with 1 Axes>"
      ]
     },
     "metadata": {},
     "output_type": "display_data"
    }
   ],
   "source": [
    "fig, ax = plt.subplots(figsize=(8, 8))\n",
    "\n",
    "# Plot horizontal bar graph\n",
    "clean_tweets_ncw_date_after.sort_values(by='count').plot.barh(x='words',\n",
    "                      y='count',\n",
    "                      ax=ax,\n",
    "                      color=\"green\")\n",
    "\n",
    "ax.set_title(\"Common Words Found in Tweets (Without Stop or Collection Words)\")\n",
    "\n",
    "plt.show()"
   ]
  },
  {
   "cell_type": "code",
   "execution_count": 215,
   "metadata": {},
   "outputs": [
    {
     "data": {
      "image/png": "[encoded data removed]",
      "text/plain": [
       "<Figure size 576x432 with 1 Axes>"
      ]
     },
     "metadata": {},
     "output_type": "display_data"
    }
   ],
   "source": [
    "# Create textblob objects of the tweets\n",
    "sentiment_objects_date_after = [TextBlob(tweet) for tweet in all_tweets_no_urls_date_after]\n",
    "\n",
    "sentiment_objects_date_after[0].polarity, sentiment_objects_date_after[0]\n",
    "\n",
    "sentiment_values_date_after = [[tweet.sentiment.polarity, str(tweet)] for tweet in sentiment_objects_date_after]\n",
    "\n",
    "sentiment_values_date_after[0]\n",
    "\n",
    "sentiment_df_date_after = pd.DataFrame(sentiment_values_date_after, columns=[\"polarity\", \"tweet\"])\n",
    "\n",
    "sentiment_df_date_after.head()\n",
    "\n",
    "# Remove polarity values equal to zero\n",
    "sentiment_df_date_after = sentiment_df_date_after[sentiment_df_date_after.polarity != 0]\n",
    "fig, ax = plt.subplots(figsize=(8, 6))\n",
    "\n",
    "# Plot histogram with break at zero\n",
    "sentiment_df_date_after.hist(bins=[-1, -0.75, -0.5, -0.25, 0.0, 0.25, 0.5, 0.75, 1],\n",
    "             ax=ax,\n",
    "             color=\"blue\")\n",
    "\n",
    "plt.title(\"Sentiments from Tweets on BLM After Death\")\n",
    "plt.show()"
   ]
  }
 ],
 "metadata": {
  "kernelspec": {
   "display_name": "Python 3",
   "language": "python",
   "name": "python3"
  },
  "language_info": {
   "codemirror_mode": {
    "name": "ipython",
    "version": 3
   },
   "file_extension": ".py",
   "mimetype": "text/x-python",
   "name": "python",
   "nbconvert_exporter": "python",
   "pygments_lexer": "ipython3",
   "version": "3.7.6"
  }
 },
 "nbformat": 4,
 "nbformat_minor": 4
}
